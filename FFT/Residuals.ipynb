{
 "cells": [
  {
   "cell_type": "markdown",
   "id": "adb587ec",
   "metadata": {},
   "source": [
    "# PCA compund data\n",
    "\n",
    "- tanh and sinusodials\n"
   ]
  },
  {
   "cell_type": "code",
   "execution_count": null,
   "id": "ad67834e",
   "metadata": {
    "ExecuteTime": {
     "end_time": "2024-04-10T04:41:45.911528Z",
     "start_time": "2024-04-10T04:41:45.909506Z"
    }
   },
   "outputs": [],
   "source": []
  },
  {
   "cell_type": "code",
   "execution_count": null,
   "id": "91be9096",
   "metadata": {
    "ExecuteTime": {
     "end_time": "2024-04-10T06:39:16.862208Z",
     "start_time": "2024-04-10T06:39:16.716009Z"
    }
   },
   "outputs": [],
   "source": [
    "import numpy as np\n",
    "import pandas as pd\n",
    "import matplotlib.pyplot as plt\n",
    "\n",
    "\n",
    "import numpy as np\n",
    "import matplotlib.pyplot as plt\n",
    "\n",
    "Fs = 200 # Sampling Frequency\n",
    "tstep = 1/Fs # sample time interval\n",
    "f0 = 1 # signal frequency\n",
    "\n",
    "Cycles = 1000\n",
    "N = Cycles * Fs//f0 # number of samples\n",
    "print(N)\n",
    "t = np.linspace(0, (N-1)*tstep, N)  # time steps\n",
    "\n",
    "fstep = Fs/N\n",
    "\n",
    "f = np.linspace(0, (N-1)*fstep, N) # frequency steps\n",
    "\n",
    "d = -50 * np.tanh((t-500))\n",
    "#d0 = np.tanh(t)\n",
    "d1 = 3 * np.cos(2 * 1 * np.pi * t ) \n",
    "d2 = 1 * np.cos(2 * 5 * np.pi * t )\n",
    "\n",
    "d_wobble =  .1 * np.cos(2 * 1 * np.pi * t ) + .2 *np.cos(2 * 5 * np.pi * t )# inches\n",
    "print(\"wobble [m] =\", d_wobble.min(), d_wobble.max())\n",
    "d = d + d_wobble\n",
    "\n",
    "\n",
    "\n",
    "plt.scatter( t, d, s = 1)\n",
    "\n",
    "\n",
    "#f = np.linspace(0, (N-1)*fstep, N) # frequency steps\n",
    "\n",
    "y = d\n",
    "# plt.xlim([490,510])\n",
    "plt.plot(t,y, '.-')"
   ]
  },
  {
   "cell_type": "code",
   "execution_count": null,
   "id": "75bf839e",
   "metadata": {
    "ExecuteTime": {
     "end_time": "2024-04-10T06:32:28.165939Z",
     "start_time": "2024-04-10T06:32:28.157326Z"
    }
   },
   "outputs": [],
   "source": [
    "# perform fft\n",
    "X = np.fft.fft(y)\n",
    "X_mag = np.abs(X)/N\n",
    "# consider Nyquist - only use half the sample freq\n",
    "f_plot = f[0: int(N/2+1)]\n",
    "X_mag_plot = 2 * X_mag[0: int(N/2+1)]\n",
    "X_mag_plot[0] = X_mag_plot[0] / 2 # correct DC magnitude\n",
    "plt.plot(f_plot,X_mag_plot, '.-')\n",
    "plt.grid()\n",
    "plt.xlabel(\"freq [Hz]\")\n",
    "plt.xlim([0,.1])\n",
    "plt.title(\"FFT - sample frequency 1000 Hz\")"
   ]
  },
  {
   "cell_type": "code",
   "execution_count": null,
   "id": "9317a519-e20a-4bff-b33d-806d76807209",
   "metadata": {},
   "outputs": [],
   "source": [
    "t.shape, y.shape, f_plot.shape,  N"
   ]
  },
  {
   "cell_type": "code",
   "execution_count": null,
   "id": "110a9329",
   "metadata": {
    "ExecuteTime": {
     "end_time": "2024-04-10T06:39:18.295224Z",
     "start_time": "2024-04-10T06:39:18.288587Z"
    }
   },
   "outputs": [],
   "source": [
    "from sklearn.decomposition import PCA\n",
    "import seaborn as sns\n",
    "X = np.stack([t,d, d1, d2], axis=0).T\n",
    "pca = PCA(n_components=4)\n",
    "PCA_X = pd.DataFrame( pca.fit_transform(X))\n",
    "\n",
    "print(pca.explained_variance_ratio_)\n",
    "print(pca.singular_values_)\n",
    "\n",
    "sns.pairplot(PCA_X, height=4)"
   ]
  },
  {
   "cell_type": "code",
   "execution_count": null,
   "id": "da963c03-debe-4bd8-899d-3905d7b7d5d6",
   "metadata": {},
   "outputs": [],
   "source": []
  },
  {
   "cell_type": "code",
   "execution_count": null,
   "id": "9ee6c58f-87e7-45e2-bce9-f0216dcd8300",
   "metadata": {},
   "outputs": [],
   "source": [
    "z = 4000\n",
    "C = 100000\n",
    "\n",
    "# Create two subplots and unpack the output array immediately\n",
    "fig, (ax1, ax2) = plt.subplots(2,1, sharey=True)\n",
    "fig.set_figheight(8)\n",
    "fig.set_figwidth(8)\n",
    "ax1.grid()\n",
    "ax1.set_title('PCA[0] vs t')\n",
    "ax1.plot(t[C- z:C + z], (PCA_X[0]  )[C - z:C + z] - (PCA_X[0]  )[C - z:C + z].mean() )\n",
    "ax2.grid()\n",
    "ax2.set_title('PCA[1] vs t')\n",
    "ax2.plot(t[C- z:C + z], (PCA_X[1] )[C - z:C + z] - (PCA_X[1] )[C - z:C + z].mean() )\n"
   ]
  },
  {
   "cell_type": "code",
   "execution_count": null,
   "id": "d67530fb-216b-4840-9998-018dc5d3b2f4",
   "metadata": {},
   "outputs": [],
   "source": [
    "# ax3.set_ylim([-50,50])\n",
    "fig, (ax1, ax2) = plt.subplots(2,1, sharey=True)\n",
    "fig.set_figheight(8)\n",
    "fig.set_figwidth(8)\n",
    "plt.xlim([480,520])\n",
    "ax1.set_title('PCA[2] vs t')\n",
    "ax1.plot(t[C- z:C + z], (PCA_X[2] )[C - z:C + z] - (PCA_X[2] )[C - z:C + z].mean())\n",
    "ax1.grid()\n",
    "ax2.set_title('PCA[3] vs t')\n",
    "ax2.plot(t[C- z:C + z], (PCA_X[3] )[C - z:C + z] - (PCA_X[3] )[C - z:C + z].mean())"
   ]
  },
  {
   "cell_type": "code",
   "execution_count": null,
   "id": "7feb54db-632a-4026-aa4e-1c889faef96d",
   "metadata": {},
   "outputs": [],
   "source": [
    "plt.xlim([0,2])\n",
    "plt.plot(t,PCA_X[2])\n",
    "plt.plot(t,PCA_X[3])"
   ]
  },
  {
   "cell_type": "markdown",
   "id": "43c058d1-1c92-4264-b4dd-5ff513ea346d",
   "metadata": {},
   "source": [
    "# Left Half"
   ]
  },
  {
   "cell_type": "code",
   "execution_count": null,
   "id": "6afada8b-c020-46d4-bd1d-527e51318c23",
   "metadata": {},
   "outputs": [],
   "source": [
    "s = 200 # Sampling Frequency\n",
    "tstep = 1/Fs # sample time interval\n",
    "f0 = 1 # signal frequency\n",
    "\n",
    "Cycles = 100\n",
    "N = Cycles * Fs//f0 # number of samples\n",
    "print(N)\n",
    "t = np.linspace(0, (N-1)*tstep, N)  # time steps\n",
    "\n",
    "fstep = Fs/N\n",
    "\n",
    "f = np.linspace(0, (N-1)*fstep, N) # frequency steps\n",
    "\n",
    "d = -50 * np.tanh((t-500000))\n",
    "#d0 = np.tanh(t)\n",
    "d1 = 3 * np.cos(2 * 1 * np.pi * t ) \n",
    "d2 = 1 * np.cos(2 * 5 * np.pi * t )\n",
    "\n",
    "d_wobble =  .1 * np.cos(2 * 1 * np.pi * t ) + .2 *np.cos(2 * 5 * np.pi * t )# inches\n",
    "print(\"wobble [m] =\", d_wobble.min(), d_wobble.max())\n",
    "d = d + d_wobble\n",
    "\n",
    "\n",
    "\n",
    "plt.scatter( t, d, s = 1)\n",
    "\n",
    "\n",
    "#f = np.linspace(0, (N-1)*fstep, N) # frequency steps\n",
    "\n",
    "y = d\n",
    "# plt.xlim([490,510])\n",
    "plt.plot(t,y, '.-')\n",
    "\n",
    "from sklearn.decomposition import PCA\n",
    "import seaborn as sns\n",
    "X = np.stack([t,d, d1, d2], axis=0).T\n",
    "pca = PCA(n_components=4)\n",
    "PCA_X = pd.DataFrame( pca.fit_transform(X))\n",
    "\n",
    "print(pca.explained_variance_ratio_)\n",
    "print(pca.singular_values_)\n",
    "\n",
    "sns.pairplot(PCA_X, height=4)"
   ]
  },
  {
   "cell_type": "code",
   "execution_count": null,
   "id": "30989af7",
   "metadata": {
    "ExecuteTime": {
     "end_time": "2024-04-10T06:42:17.085386Z",
     "start_time": "2024-04-10T06:42:12.845541Z"
    }
   },
   "outputs": [],
   "source": [
    "# perform fft\n",
    "X = np.fft.fft(PCA_X[2])\n",
    "X_mag = np.abs(X)/N\n",
    "# consider Nyquist - only use half the sample freq\n",
    "f_plot = f[0: int(N/2+1)]\n",
    "X_mag_plot = 2 * X_mag[0: int(N/2+1)]\n",
    "X_mag_plot[0] = X_mag_plot[0] / 2 # correct DC magnitude\n",
    "plt.plot(f_plot,X_mag_plot, '.-')\n",
    "plt.grid()\n",
    "plt.xlabel(\"freq [Hz]\")\n",
    "plt.xlim([0,10])\n",
    "plt.title(f\"FFT - sample frequency {Fs} Hz\")"
   ]
  },
  {
   "cell_type": "code",
   "execution_count": null,
   "id": "6a849d46",
   "metadata": {
    "ExecuteTime": {
     "end_time": "2024-04-10T06:39:27.659951Z",
     "start_time": "2024-04-10T06:39:27.657680Z"
    }
   },
   "outputs": [],
   "source": [
    "# perform fft\n",
    "X = np.fft.fft(PCA_X[3])\n",
    "X_mag = np.abs(X)/N\n",
    "# consider Nyquist - only use half the sample freq\n",
    "f_plot = f[0: int(N/2+1)]\n",
    "X_mag_plot = 2 * X_mag[0: int(N/2+1)]\n",
    "X_mag_plot[0] = X_mag_plot[0] / 2 # correct DC magnitude\n",
    "plt.plot(f_plot,X_mag_plot, '.-')\n",
    "plt.grid()\n",
    "plt.xlabel(\"freq [Hz]\")\n",
    "plt.xlim([0,10])\n",
    "plt.title(f\"FFT - sample frequency {Fs} Hz\")"
   ]
  },
  {
   "cell_type": "code",
   "execution_count": null,
   "id": "8645f12a",
   "metadata": {},
   "outputs": [],
   "source": []
  },
  {
   "cell_type": "code",
   "execution_count": null,
   "id": "60b108a8-3a4f-4a0c-9997-49fec914647b",
   "metadata": {},
   "outputs": [],
   "source": []
  },
  {
   "cell_type": "code",
   "execution_count": null,
   "id": "9299d934-3d9e-4a04-b78d-2adcf3fe5d55",
   "metadata": {},
   "outputs": [],
   "source": []
  },
  {
   "cell_type": "markdown",
   "id": "19b5bf6a-dd69-422e-9a40-4774053cc5a8",
   "metadata": {},
   "source": [
    "# Left/Right shift noise"
   ]
  },
  {
   "cell_type": "code",
   "execution_count": null,
   "id": "90928e19-9594-4592-bfd7-de5cb783d936",
   "metadata": {},
   "outputs": [],
   "source": [
    "import numpy as np\n",
    "import pandas as pd\n",
    "import matplotlib.pyplot as plt\n",
    "\n",
    "\n",
    "import numpy as np\n",
    "import matplotlib.pyplot as plt\n",
    "\n",
    "Fs = 200 # Sampling Frequency\n",
    "tstep = 1/Fs # sample time interval\n",
    "f0 = 1 # signal frequency\n",
    "\n",
    "Cycles = 1000\n",
    "N = Cycles * Fs//f0 # number of samples\n",
    "\n",
    "t = np.linspace(0, (N-1)*tstep, N)  # time steps\n",
    "\n",
    "fstep = Fs/N\n",
    "\n",
    "f = np.linspace(0, (N-1)*fstep, N) # frequency steps\n",
    "\n",
    "# ampTanh = np.array( [50,55,35,60] )*10\n",
    "# offTanh = np.array( [500, 600, 550, 525] )\n",
    "# amp1 = np.array( [100,120,-90,92] )/10\n",
    "# amp2 = np.array( [30,-20,32,35] )/10\n",
    "# freq1 = np.array( [10,11,9,15] )/10\n",
    "# freq2 = np.array( [19,18,20,17] )/10\n",
    "ampTanh = np.array( [50]*4)*10\n",
    "offTanh = np.array( [500, 506, 498, 501] )\n",
    "amp1 = np.array( [100]*4 )/10\n",
    "amp2 = np.array( [-20]*4 )/10\n",
    "freq1 = np.array( [10]*4 )/10\n",
    "freq2 = np.array( [13]*4)/10\n",
    "curve = []\n",
    "\n",
    "for i in range(len(amp1)):\n",
    "    d = ampTanh[i] * -1 * np.tanh(t - offTanh[i])\n",
    "    d_wobble =  amp1[i] * np.random.uniform(0,1,N) * np.cos(2*freq1[i]*np.pi*t) + amp2[i]*np.random.uniform(0,1,N)*np.cos(freq2[i]*5*np.pi*t)# inches\n",
    "    curve.append(d + d_wobble)\n",
    "for i in range(len(amp1)):    \n",
    "    plt.plot(t,curve[i], '.-', alpha = .25)"
   ]
  },
  {
   "cell_type": "code",
   "execution_count": null,
   "id": "214a96d4-04aa-475c-aff7-7c55664455e0",
   "metadata": {},
   "outputs": [],
   "source": [
    "y = np.array(curve).T\n",
    "y.shape, f.shape"
   ]
  },
  {
   "cell_type": "code",
   "execution_count": null,
   "id": "aac2298e-2168-4451-b607-816ddb7035fe",
   "metadata": {},
   "outputs": [],
   "source": [
    "# perform fft\n",
    "X = np.fft.fft(y)\n",
    "X_mag = np.abs(X)/N\n",
    "# consider Nyquist - only use half the sample freq\n",
    "f_plot = f[0: int(N/2+1)]\n",
    "X_mag_plot = 2 * X_mag[0: int(N/2+1)]\n",
    "X_mag_plot[0] = X_mag_plot[0] / 2 # correct DC magnitude\n",
    "plt.plot(f_plot,X_mag_plot, '.-')\n",
    "plt.grid()\n",
    "plt.xlabel(\"freq [Hz]\")\n",
    "plt.xlim([0,20])\n",
    "plt.title(f\"FFT - sample frequency {Fs} Hz\")"
   ]
  },
  {
   "cell_type": "code",
   "execution_count": null,
   "id": "7116b3ad-3403-4c0d-83d6-c404d241eb1d",
   "metadata": {},
   "outputs": [],
   "source": [
    "plt.plot(X_mag, '.-')\n",
    "plt.ylim([0,.15])\n",
    "plt.xlim([0,1000])\n",
    "plt.grid()"
   ]
  },
  {
   "cell_type": "code",
   "execution_count": null,
   "id": "944a30f6-8531-4634-81f1-4d89a591d0e8",
   "metadata": {},
   "outputs": [],
   "source": []
  },
  {
   "cell_type": "code",
   "execution_count": null,
   "id": "76cd8148-5b77-478b-aae5-ebb77fe50f12",
   "metadata": {},
   "outputs": [],
   "source": [
    "from sklearn.decomposition import PCA\n",
    "import seaborn as sns\n",
    "X = np.stack([t,y.T[0],y.T[1],y.T[2],y.T[3]], axis=0)\n",
    "pca = PCA(n_components=5)\n",
    "PCA_X = pd.DataFrame( pca.fit_transform(X.T))\n",
    "\n",
    "print(pca.explained_variance_ratio_)\n",
    "print(pca.singular_values_)\n",
    "\n",
    "sns.pairplot(PCA_X, height=6)"
   ]
  },
  {
   "cell_type": "code",
   "execution_count": null,
   "id": "91858713-77e5-4555-8946-ea8a5b8c0c5e",
   "metadata": {},
   "outputs": [],
   "source": [
    "for i in range(5):\n",
    "    plt.plot(t, PCA_X[i])"
   ]
  },
  {
   "cell_type": "code",
   "execution_count": null,
   "id": "60ca9e6d-45fd-4b1f-afa1-216d32098a02",
   "metadata": {},
   "outputs": [],
   "source": [
    "plt.ylim([-2,2])\n",
    "plt.xlim([0,1])\n",
    "plt.plot(t, PCA_X[4])"
   ]
  },
  {
   "cell_type": "code",
   "execution_count": null,
   "id": "fa770846-596f-49ce-a8fc-aeb896c3fbea",
   "metadata": {},
   "outputs": [],
   "source": [
    "plt.ylim([485,515])\n",
    "plt.xlim([0,3])\n",
    "plt.plot(t,curve[0], '.-', alpha = .25)"
   ]
  },
  {
   "cell_type": "code",
   "execution_count": null,
   "id": "30ae7b0f-d6f2-4bff-8c3c-d2a042e3e4c8",
   "metadata": {},
   "outputs": [],
   "source": [
    "Fs = 20 # Sampling Frequency\n",
    "tstep = 1/Fs # sample time interval\n",
    "f0 = 1 # signal frequency\n",
    "\n",
    "Cycles = 100\n",
    "N = Cycles * Fs//f0 # number of samples\n",
    "print(N)\n",
    "t = np.linspace(0, (N-1)*tstep, N)  # time steps\n",
    "\n",
    "fstep = Fs/N\n",
    "\n",
    "f = np.linspace(0, (N-1)*fstep, N) # frequency steps\n",
    "\n",
    "d = -50 * np.tanh((t-300000))\n",
    "#d0 = np.tanh(t)\n",
    "d1 = 3 * np.cos(2 * 1 * np.pi * t ) \n",
    "d2 = 1 * np.cos(2 * 5 * np.pi * t )\n",
    "\n",
    "d_wobble =  .1 * np.cos(2 * 1 * np.pi * t ) + .2 *np.cos(2 * 5 * np.pi * t )# inches\n",
    "#print(\"wobble [m] =\", d_wobble.min(), d_wobble.max())\n",
    "d = d + d_wobble\n",
    "#plt.scatter( t, d, s = 1)\n",
    "\n",
    "f = np.linspace(0, (N-1)*fstep, N) # frequency steps\n",
    "\n",
    "y = d\n",
    "\n",
    "# perform fft\n",
    "X = np.fft.fft(y)\n",
    "X_mag = np.abs(X)/N\n",
    "# consider Nyquist - only use half the sample freq\n",
    "f_plot = f[0: int(N/2+1)]\n",
    "X_mag_plot = 2 * X_mag[0: int(N/2+1)]\n",
    "X_mag_plot[0] = X_mag_plot[0] / 2 # correct DC magnitude\n",
    "#plt.plot(f_plot, '.-')\n",
    "plt.plot(X_mag_plot, '.-')\n",
    "plt.grid()\n",
    "plt.xlabel(\"freq [Hz]\")\n",
    "plt.xlim([0,2])\n",
    "#plt.ylim([0,10])\n",
    "plt.title(f\"FFT - sample frequency {Fs} Hz\")"
   ]
  },
  {
   "cell_type": "code",
   "execution_count": null,
   "id": "6f98bcb1-8d5d-4dce-a2f1-79ae121532c9",
   "metadata": {},
   "outputs": [],
   "source": [
    "plt.xlim([0,8])\n",
    "plt.plot(t,d)"
   ]
  },
  {
   "cell_type": "code",
   "execution_count": null,
   "id": "0ec1fbc5-597b-469d-9cb6-d2762ba641d7",
   "metadata": {},
   "outputs": [],
   "source": []
  },
  {
   "cell_type": "code",
   "execution_count": null,
   "id": "3237b1b2-ea1c-4b62-820c-a674e81c1152",
   "metadata": {},
   "outputs": [],
   "source": []
  }
 ],
 "metadata": {
  "kernelspec": {
   "display_name": "mldl",
   "language": "python",
   "name": "mldl"
  },
  "language_info": {
   "codemirror_mode": {
    "name": "ipython",
    "version": 3
   },
   "file_extension": ".py",
   "mimetype": "text/x-python",
   "name": "python",
   "nbconvert_exporter": "python",
   "pygments_lexer": "ipython3",
   "version": "3.8.10"
  }
 },
 "nbformat": 4,
 "nbformat_minor": 5
}
