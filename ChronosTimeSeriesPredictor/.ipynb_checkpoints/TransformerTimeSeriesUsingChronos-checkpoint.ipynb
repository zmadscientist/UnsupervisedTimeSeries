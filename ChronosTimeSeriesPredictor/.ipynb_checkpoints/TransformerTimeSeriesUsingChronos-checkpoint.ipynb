{
 "cells": [
  {
   "cell_type": "markdown",
   "id": "6a6c6881-ea30-44b2-824f-7bbdf975ff42",
   "metadata": {},
   "source": [
    "# Time Series Prediction\n",
    "\n",
    "This data was sunthesized after reconstructing digitizing a plot from Toronto Hydro PDF then finding the mean and standard deviation fro every time slice in the contructed graph for several days worth of data. This proviided  a gaussian distribution that could be sampled from to generate an infinite number of datas worth of data. Severl such days of synthetic data have been saved in anomaly.csv.\n",
    "\n",
    "We use this data as a starting point to generate new data in the desired Chronos format: anomalySeries.csv\n",
    "\n",
    "Then following the tutorial from Article: **Forecasting with Chronos**\n",
    "- https://auto.gluon.ai/stable/tutorials/timeseries/forecasting-chronos.html\n",
    "\n"
   ]
  },
  {
   "cell_type": "code",
   "execution_count": null,
   "id": "44124d60-6735-4321-8f7f-c6c43f2c835f",
   "metadata": {},
   "outputs": [],
   "source": [
    "#!pip install git+https://github.com/amazon-science/chronos-forecasting.git\n"
   ]
  },
  {
   "cell_type": "code",
   "execution_count": null,
   "id": "50d91caf-331d-4ac1-924c-8edbc0367af8",
   "metadata": {},
   "outputs": [],
   "source": [
    "from autogluon.timeseries import TimeSeriesDataFrame, TimeSeriesPredictor"
   ]
  },
  {
   "cell_type": "code",
   "execution_count": null,
   "id": "cc062cae-bf9f-4fc4-ad76-34f38cfe28d1",
   "metadata": {},
   "outputs": [],
   "source": [
    "import matplotlib.pyplot as plt\n",
    "import numpy as np\n",
    "import pandas as pd\n",
    "import torch\n",
    "from chronos import ChronosPipeline\n",
    "from tqdm.auto import tqdm"
   ]
  },
  {
   "cell_type": "markdown",
   "id": "45e92cf3-0665-4438-b239-ed997da23dfc",
   "metadata": {},
   "source": [
    "# Anomaly"
   ]
  },
  {
   "cell_type": "code",
   "execution_count": null,
   "id": "27b1b019-9815-437c-9f41-e42a634fdba6",
   "metadata": {},
   "outputs": [],
   "source": []
  },
  {
   "cell_type": "code",
   "execution_count": null,
   "id": "1432336d-58ca-4298-a0ed-b300b92a96b1",
   "metadata": {},
   "outputs": [],
   "source": [
    "pipeline = ChronosPipeline.from_pretrained(\n",
    "  \"amazon/chronos-t5-base\",\n",
    "  device_map=\"cpu\", \n",
    "  torch_dtype=torch.bfloat16,\n",
    ")"
   ]
  },
  {
   "cell_type": "code",
   "execution_count": null,
   "id": "07c227aa-b8a0-4fcc-a9ee-6c9196b5cd4c",
   "metadata": {},
   "outputs": [],
   "source": [
    "data = TimeSeriesDataFrame(\n",
    "    \"anomalySeries.csv\"\n",
    ")\n",
    "data.head()"
   ]
  },
  {
   "cell_type": "code",
   "execution_count": null,
   "id": "65f83c93-cf59-4401-88a9-ae8e254b4150",
   "metadata": {},
   "outputs": [],
   "source": [
    "prediction_length = 24\n",
    "train_data, test_data = data.train_test_split(prediction_length)\n",
    "\n",
    "predictor = TimeSeriesPredictor(prediction_length=prediction_length).fit(\n",
    "    train_data, presets=\"chronos_tiny\",\n",
    ")"
   ]
  },
  {
   "cell_type": "code",
   "execution_count": null,
   "id": "5717030f-abd0-446d-9e70-cbc27d59d2c4",
   "metadata": {
    "scrolled": true
   },
   "outputs": [],
   "source": [
    "predictor = TimeSeriesPredictor(prediction_length=prediction_length).fit(\n",
    "    train_data,\n",
    "    hyperparameters={\n",
    "        \"Chronos\": {\n",
    "            \"model_path\": \"tiny\",\n",
    "            \"batch_size\": 64,\n",
    "            \"device\": \"cpu\",\n",
    "        }\n",
    "    },\n",
    "    skip_model_selection=True,\n",
    "    verbosity=0,\n",
    ")"
   ]
  },
  {
   "cell_type": "code",
   "execution_count": null,
   "id": "d69b809d-cb1f-4e52-a21a-eec16b842aba",
   "metadata": {},
   "outputs": [],
   "source": [
    "predictions = predictor.predict(train_data)"
   ]
  },
  {
   "cell_type": "code",
   "execution_count": null,
   "id": "d06a4e53-e41e-42c5-88db-8880fa413db3",
   "metadata": {},
   "outputs": [],
   "source": [
    "Len = data.shape[0]\n",
    "predictor.plot(\n",
    "    data=data, \n",
    "    predictions=predictions, \n",
    "    item_ids=[\"Series\"],\n",
    "    max_history_length=Len,\n",
    ")"
   ]
  },
  {
   "cell_type": "markdown",
   "id": "a06dc1e0-d540-446e-b378-db2ef9ed388c",
   "metadata": {},
   "source": [
    "# Generate Clean Anomaly data"
   ]
  },
  {
   "cell_type": "code",
   "execution_count": null,
   "id": "4fad90c3-0e0a-47af-83fa-cf0f939bd058",
   "metadata": {},
   "outputs": [],
   "source": [
    "# df = pd.read_csv('anomaly.csv')\n",
    "# L = []\n",
    "# for d in range(1,124): # each day for 123 days starting at day 1\n",
    "#     for h in range(0,24): # each hour\n",
    "#         for m in range(0,2):  # every 30 min\n",
    "#             L.append(f\"1750-01-{d:02d} {h:02d}:{m*30:02d}:00\")\n",
    "# Len = len(L)\n",
    "# df = df.loc[:Len-1,['item_id','timestamp','target']]\n",
    "# df.timestamp = L\n",
    "# df = df[['item_id','timestamp','target']]\n",
    "# df.to_csv('anomalySeries.csv', index= False)\n",
    "# df\n"
   ]
  },
  {
   "cell_type": "code",
   "execution_count": null,
   "id": "d1f6d5c7-2382-4039-8b15-6c0480366856",
   "metadata": {},
   "outputs": [],
   "source": []
  },
  {
   "cell_type": "code",
   "execution_count": null,
   "id": "94889817-3da4-4ad9-b338-ca882db28ab9",
   "metadata": {},
   "outputs": [],
   "source": []
  },
  {
   "cell_type": "code",
   "execution_count": null,
   "id": "e6a33547-39c6-49af-b466-9e2fc64983b9",
   "metadata": {},
   "outputs": [],
   "source": []
  }
 ],
 "metadata": {
  "kernelspec": {
   "display_name": "Pytorch GPU",
   "language": "python",
   "name": "pytorch-gpu"
  },
  "language_info": {
   "codemirror_mode": {
    "name": "ipython",
    "version": 3
   },
   "file_extension": ".py",
   "mimetype": "text/x-python",
   "name": "python",
   "nbconvert_exporter": "python",
   "pygments_lexer": "ipython3",
   "version": "3.9.18"
  }
 },
 "nbformat": 4,
 "nbformat_minor": 5
}
